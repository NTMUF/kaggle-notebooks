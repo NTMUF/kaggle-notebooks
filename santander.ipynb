{
 "cells": [
  {
   "cell_type": "code",
   "execution_count": null,
   "metadata": {
    "collapsed": false
   },
   "outputs": [],
   "source": [
    "%pylab inline --no-import-all\n",
    "\n",
    "from __future__ import division, print_function\n",
    "import pandas as pd\n",
    "import seaborn as sns\n",
    "from sklearn.externals import joblib\n",
    "from sklearn.preprocessing import StandardScaler\n",
    "from sklearn.decomposition import PCA\n",
    "from sklearn.pipeline import Pipeline\n",
    "\n",
    "pd.options.display.max_columns=50"
   ]
  },
  {
   "cell_type": "markdown",
   "metadata": {},
   "source": [
    "## Load data"
   ]
  },
  {
   "cell_type": "code",
   "execution_count": null,
   "metadata": {
    "collapsed": false
   },
   "outputs": [],
   "source": [
    "# Data is assumed to be in directory data/\n",
    "with open('data/colnames.py', 'r') as myfile:\n",
    "    columns_names_dict = eval(myfile.read())\n",
    "data_train = pd.read_csv(\"data/sample_train.csv\", parse_dates=[0,6,10], dtype={\"cod_prov\":str, \"conyuemp\":str},\n",
    "                         skipinitialspace=True)#, nrows=1000000)\n",
    "data_train.rename(columns=columns_names_dict, inplace=True)\n",
    "\n",
    "data_train.head()"
   ]
  },
  {
   "cell_type": "markdown",
   "metadata": {},
   "source": [
    "## Cleaning"
   ]
  },
  {
   "cell_type": "code",
   "execution_count": null,
   "metadata": {
    "collapsed": false
   },
   "outputs": [],
   "source": [
    "# Looks like we've got outilers in SENIORITY_MNTH\n",
    "data_train.SENIORITY_MNTH.replace(-999999, np.NaN, inplace=True)"
   ]
  },
  {
   "cell_type": "code",
   "execution_count": null,
   "metadata": {
    "collapsed": false
   },
   "outputs": [],
   "source": [
    "# Transform datetime into integer\n",
    "date_cols = data_train.columns[data_train.dtypes == data_train.FETCH_DATE.dtype]\n",
    "data_train[date_cols] = data_train[date_cols].astype(int)"
   ]
  },
  {
   "cell_type": "code",
   "execution_count": null,
   "metadata": {
    "collapsed": false
   },
   "outputs": [],
   "source": [
    "# Replace float NaNs by cust mean or global mean if not possible\n",
    "col_to_fill = data_train.columns[np.logical_and(data_train.dtypes != object, data_train.isnull().any())]\n",
    "fill_values = data_train.groupby(\"CUST_ID\")[col_to_fill].mean()\n",
    "fill_values_mean = fill_values.mean()\n",
    "for col in col_to_fill:\n",
    "    fill_values[col].fillna(fill_values_mean[col], inplace=True)\n",
    "\n",
    "# Replace in data\n",
    "data_train.set_index(\"CUST_ID\", inplace=True)\n",
    "\n",
    "for col in col_to_fill:\n",
    "    data_col = data_train[col].copy()\n",
    "    data_col.loc[data_train[col].isnull()] = fill_values[col]\n",
    "    data_train[col] = data_col\n",
    "    \n",
    "data_train.reset_index(inplace=True)"
   ]
  },
  {
   "cell_type": "markdown",
   "metadata": {},
   "source": [
    "# Data Visualization"
   ]
  },
  {
   "cell_type": "code",
   "execution_count": null,
   "metadata": {
    "collapsed": false
   },
   "outputs": [],
   "source": [
    "data_train.describe()"
   ]
  },
  {
   "cell_type": "markdown",
   "metadata": {},
   "source": [
    "## Age histogram"
   ]
  },
  {
   "cell_type": "code",
   "execution_count": null,
   "metadata": {
    "collapsed": false
   },
   "outputs": [],
   "source": [
    "data_train.CUST_AGE.plot.hist(bins=int(data_train.CUST_AGE.max() - data_train.CUST_AGE.min() + 1))"
   ]
  },
  {
   "cell_type": "markdown",
   "metadata": {},
   "source": [
    "## Income boxplots"
   ]
  },
  {
   "cell_type": "code",
   "execution_count": null,
   "metadata": {
    "collapsed": false
   },
   "outputs": [],
   "source": [
    "plt.figure()\n",
    "fig = sns.boxplot(x=\"CUSTIND_SEGMNT\", y=\"CUST_HOUSINCOM\", data = data_train)\n",
    "fig.set_yscale('log')"
   ]
  },
  {
   "cell_type": "code",
   "execution_count": null,
   "metadata": {
    "collapsed": false
   },
   "outputs": [],
   "source": [
    "plt.figure()\n",
    "fig = sns.boxplot(x=\"EMPLYMT_STATUS\", y=\"CUST_HOUSINCOM\", data = data_train)\n",
    "fig.set_yscale('log')"
   ]
  },
  {
   "cell_type": "markdown",
   "metadata": {},
   "source": [
    "## Seniority"
   ]
  },
  {
   "cell_type": "code",
   "execution_count": null,
   "metadata": {
    "collapsed": false
   },
   "outputs": [],
   "source": [
    "sns.boxplot(x=data_train.SENIORITY_MNTH)"
   ]
  },
  {
   "cell_type": "markdown",
   "metadata": {},
   "source": [
    "## Profiles"
   ]
  },
  {
   "cell_type": "code",
   "execution_count": null,
   "metadata": {
    "collapsed": false
   },
   "outputs": [],
   "source": [
    "profile_cols = [col for col in data_train.columns\n",
    "                if not col.startswith(\"IND\") and not col is \"CUST_ID\" and not col is \"FETCH_DATE\"]"
   ]
  },
  {
   "cell_type": "code",
   "execution_count": null,
   "metadata": {
    "collapsed": false
   },
   "outputs": [],
   "source": [
    "data_profiles = pd.get_dummies(data_train[profile_cols],\n",
    "                               columns=[col for col in profile_cols if data_train[col].dtype == object],\n",
    "                               dummy_na=True, drop_first=True)\n",
    "data_profiles.describe()"
   ]
  },
  {
   "cell_type": "markdown",
   "metadata": {},
   "source": [
    "## Profiles PCA"
   ]
  },
  {
   "cell_type": "code",
   "execution_count": null,
   "metadata": {
    "collapsed": false,
    "scrolled": true
   },
   "outputs": [],
   "source": [
    "# Execute only if you don't have the pickled pipeline\n",
    "pipeline = Pipeline([('scaling', StandardScaler()), ('pca', PCA(n_components=0.99))])\n",
    "profiles_pca = pipeline.fit_transform(data_profiles)\n",
    "profiles_pca.shape"
   ]
  },
  {
   "cell_type": "code",
   "execution_count": null,
   "metadata": {
   },
   "outputs": [],
   "source": [
    "joblib.dump(pipeline, \"data/pipeline.pkl\")"
   ]
  },
  {
   "cell_type": "markdown",
   "metadata": {},
   "source": [
    "## Training"
   ]
  },
  {
   "cell_type": "code",
   "execution_count": null,
   "metadata": {
    "collapsed": false
   },
   "outputs": [],
   "source": [
    "pipeline = joblib.load(\"data/pipeline.pkl\")"
   ]
  },
  {
   "cell_type": "code",
   "execution_count": null,
   "metadata": {
    "collapsed": true
   },
   "outputs": [],
   "source": []
  }
 ],
 "metadata": {
  "anaconda-cloud": {},
  "kernelspec": {
   "display_name": "Python 2",
   "language": "python",
   "name": "python2"
  },
  "language_info": {
   "codemirror_mode": {
    "name": "ipython",
    "version": 2
   },
   "file_extension": ".py",
   "mimetype": "text/x-python",
   "name": "python",
   "nbconvert_exporter": "python",
   "pygments_lexer": "ipython2",
   "version": "2.7.6"
  }
 },
 "nbformat": 4,
 "nbformat_minor": 1
}
