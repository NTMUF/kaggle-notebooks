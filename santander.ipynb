{
 "cells": [
  {
   "cell_type": "code",
   "execution_count": null,
   "metadata": {
    "collapsed": false
   },
   "outputs": [],
   "source": [
    "%pylab inline --no-import-all\n",
    "\n",
    "from __future__ import division, print_function\n",
    "from datetime import datetime\n",
    "import pandas as pd\n",
    "import seaborn as sns\n",
    "from sklearn.externals import joblib\n",
    "from sklearn.preprocessing import StandardScaler\n",
    "from sklearn.decomposition import PCA\n",
    "from sklearn.pipeline import Pipeline\n",
    "from sklearn.cross_validation import train_test_split\n",
    "from sklearn.linear_model import LogisticRegression\n",
    "from map import mapk  ## to compute our loss function. Usage : mapk(actual:[[],[]],predicted:[[],[]],k:7)\n",
    "\n",
    "pd.options.display.max_columns=50"
   ]
  },
  {
   "cell_type": "markdown",
   "metadata": {},
   "source": [
    "## Load data"
   ]
  },
  {
   "cell_type": "code",
   "execution_count": null,
   "metadata": {
    "collapsed": false
   },
   "outputs": [],
   "source": [
    "# Data is assumed to be in directory data/\n",
    "with open('data/colnames.py', 'r') as myfile:\n",
    "    columns_names_dict = eval(myfile.read())\n",
    "data_train = pd.read_csv(\"data/sample_train.csv\", parse_dates=[0,6,10], dtype={\"cod_prov\":str, \"conyuemp\":str},\n",
    "                         skipinitialspace=True)#, nrows=1000000)\n",
    "data_train.rename(columns=columns_names_dict, inplace=True)\n",
    "\n",
    "data_train.head()"
   ]
  },
  {
   "cell_type": "markdown",
   "metadata": {},
   "source": [
    "## Cleaning"
   ]
  },
  {
   "cell_type": "code",
   "execution_count": null,
   "metadata": {
    "collapsed": false
   },
   "outputs": [],
   "source": [
    "# Looks like we've got outilers in SENIORITY_MNTH\n",
    "data_train.SENIORITY_MNTH.replace(-999999, np.NaN, inplace=True)"
   ]
  },
  {
   "cell_type": "code",
   "execution_count": null,
   "metadata": {
    "collapsed": false
   },
   "outputs": [],
   "source": [
    "# Transform datetime into integer\n",
    "date_cols = data_train.columns[data_train.dtypes == data_train.FETCH_DATE.dtype]\n",
    "data_train[date_cols] = data_train[date_cols].astype(int)"
   ]
  },
  {
   "cell_type": "code",
   "execution_count": null,
   "metadata": {
    "collapsed": false
   },
   "outputs": [],
   "source": [
    "# Replace float NaNs by cust mean or global mean if not possible\n",
    "col_to_fill = data_train.columns[np.logical_and(data_train.dtypes != object, data_train.isnull().any())]\n",
    "fill_values = data_train.groupby(\"CUST_ID\")[col_to_fill].mean()\n",
    "fill_values_mean = fill_values.mean()\n",
    "for col in col_to_fill:\n",
    "    fill_values[col].fillna(fill_values_mean[col], inplace=True)\n",
    "\n",
    "# Replace in data\n",
    "data_train.set_index(\"CUST_ID\", inplace=True)\n",
    "\n",
    "for col in col_to_fill:\n",
    "    data_col = data_train[col].copy()\n",
    "    data_col.loc[data_train[col].isnull()] = fill_values[col]\n",
    "    data_train[col] = data_col\n",
    "    \n",
    "data_train.reset_index(inplace=True)"
   ]
  },
  {
   "cell_type": "markdown",
   "metadata": {},
   "source": [
    "# Data Visualization"
   ]
  },
  {
   "cell_type": "code",
   "execution_count": null,
   "metadata": {
    "collapsed": false
   },
   "outputs": [],
   "source": [
    "data_train.describe()"
   ]
  },
  {
   "cell_type": "markdown",
   "metadata": {},
   "source": [
    "## Age histogram"
   ]
  },
  {
   "cell_type": "code",
   "execution_count": null,
   "metadata": {
    "collapsed": false
   },
   "outputs": [],
   "source": [
    "data_train.CUST_AGE.plot.hist(bins=int(data_train.CUST_AGE.max() - data_train.CUST_AGE.min() + 1))"
   ]
  },
  {
   "cell_type": "markdown",
   "metadata": {},
   "source": [
    "## Income boxplots"
   ]
  },
  {
   "cell_type": "code",
   "execution_count": null,
   "metadata": {
    "collapsed": false
   },
   "outputs": [],
   "source": [
    "plt.figure()\n",
    "fig = sns.boxplot(x=\"CUSTIND_SEGMNT\", y=\"CUST_HOUSINCOM\", data = data_train)\n",
    "fig.set_yscale('log')"
   ]
  },
  {
   "cell_type": "code",
   "execution_count": null,
   "metadata": {
    "collapsed": false
   },
   "outputs": [],
   "source": [
    "plt.figure()\n",
    "fig = sns.boxplot(x=\"EMPLYMT_STATUS\", y=\"CUST_HOUSINCOM\", data = data_train)\n",
    "fig.set_yscale('log')"
   ]
  },
  {
   "cell_type": "markdown",
   "metadata": {},
   "source": [
    "## Seniority"
   ]
  },
  {
   "cell_type": "code",
   "execution_count": null,
   "metadata": {
    "collapsed": false
   },
   "outputs": [],
   "source": [
    "sns.boxplot(x=data_train.SENIORITY_MNTH)"
   ]
  },
  {
   "cell_type": "markdown",
   "metadata": {},
   "source": [
    "## Profiles"
   ]
  },
  {
   "cell_type": "code",
   "execution_count": null,
   "metadata": {
    "collapsed": false
   },
   "outputs": [],
   "source": [
    "profile_cols = [col for col in data_train.columns\n",
    "                if not col.startswith(\"IND\") and not col is \"CUST_ID\" and not col is \"FETCH_DATE\"]\n",
    "print(profile_cols)\n",
    "product_cols = [col for col in data_train.columns if not col is \"CUST_ID\" and not col is \"FETCH_DATE\" and not col in profile_cols]\n",
    "print(product_cols)"
   ]
  },
  {
   "cell_type": "code",
   "execution_count": null,
   "metadata": {
    "collapsed": false
   },
   "outputs": [],
   "source": [
    "all_dates = data_train[\"FETCH_DATE\"].unique()\n",
    "print(all_dates)\n",
    "last_date=all_dates[16]\n",
    "\n",
    "last_month_data = data_train[data_train.FETCH_DATE == last_date]\n",
    "##last_month_data.rename(columns=lambda x: \"L_MONTH_\"+x, inplace=True)\n",
    "last_month_data.shape"
   ]
  },
  {
   "cell_type": "code",
   "execution_count": null,
   "metadata": {
    "collapsed": false
   },
   "outputs": [],
   "source": [
    "date_month_before = all_dates[15]\n",
    "month_before_data= data_train[data_train.FETCH_DATE == date_month_before]\n",
    "month_before_data.shape"
   ]
  },
  {
   "cell_type": "code",
   "execution_count": null,
   "metadata": {
    "collapsed": false
   },
   "outputs": [],
   "source": [
    "joined = pd.merge(month_before_data,last_month_data,how=\"inner\",on=\"CUST_ID\")\n",
    "joined.shape"
   ]
  },
  {
   "cell_type": "code",
   "execution_count": null,
   "metadata": {
    "collapsed": false
   },
   "outputs": [],
   "source": [
    "data_cols = [col+\"_x\" for col in data_train.columns if col is not \"CUST_ID\"]\n",
    "label_cols = [\"got_\"+col for col in product_cols]\n",
    "for col in product_cols:\n",
    "    joined[\"got_\"+col]=((1-joined[col+\"_x\"])*joined[col+\"_y\"]).astype(int)\n",
    "    \n",
    "print(data_cols)\n",
    "print(label_cols)\n",
    "\n",
    "full_training_set = joined[data_cols].copy(deep = True)\n",
    "full_label_set = joined[label_cols].copy(deep = True)"
   ]
  },
  {
   "cell_type": "code",
   "execution_count": null,
   "metadata": {
    "collapsed": false
   },
   "outputs": [],
   "source": [
    "X_train, X_test, Y_train, y_split = train_test_split(full_training_set,full_label_set)\n"
   ]
  },
  {
   "cell_type": "code",
   "execution_count": null,
   "metadata": {
    "collapsed": false
   },
   "outputs": [],
   "source": [
    "classifiers = {}\n",
    "for label_col in label_cols:\n",
    "    classifiers[label_col] = LogisticRegression()\n",
    "    classifiers[label_col].fit(X_train,Y_train[label_col])\n",
    "    print(\"Fitted \"+label_col)"
   ]
  }
 ],
 "metadata": {
  "anaconda-cloud": {},
  "kernelspec": {
   "display_name": "Python 3",
   "language": "python",
   "name": "python3"
  },
  "language_info": {
   "codemirror_mode": {
    "name": "ipython",
    "version": 3
   },
   "file_extension": ".py",
   "mimetype": "text/x-python",
   "name": "python",
   "nbconvert_exporter": "python",
   "pygments_lexer": "ipython3",
   "version": "3.5.2"
  }
 },
 "nbformat": 4,
 "nbformat_minor": 1
}
