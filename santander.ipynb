{
 "cells": [
  {
   "cell_type": "code",
   "execution_count": null,
   "metadata": {
    "collapsed": false
   },
   "outputs": [],
   "source": [
    "%pylab inline --no-import-all\n",
    "\n",
    "import pandas as pd\n",
    "import seaborn as sns\n",
    "\n",
    "pd.options.display.max_columns=50"
   ]
  },
  {
   "cell_type": "markdown",
   "metadata": {},
   "source": [
    "## Load data"
   ]
  },
  {
   "cell_type": "code",
   "execution_count": null,
   "metadata": {
    "collapsed": false
   },
   "outputs": [],
   "source": [
    "# Data is assumed to be in directory data/\n",
    "with open('data/colnames.py', 'r') as myfile:\n",
    "    columns_names_dict = eval(myfile.read())\n",
    "data_train = pd.read_csv(\"data/train_ver2.csv\", parse_dates=[0,6], skipinitialspace=True, nrows=1000000)\n",
    "data_train.rename(columns=columns_names_dict, inplace=True)\n",
    "\n",
    "data_train.head()"
   ]
  },
  {
   "cell_type": "markdown",
   "metadata": {},
   "source": [
    "# Data Visualization"
   ]
  },
  {
   "cell_type": "code",
   "execution_count": null,
   "metadata": {
    "collapsed": false
   },
   "outputs": [],
   "source": [
    "data_train.describe()"
   ]
  },
  {
   "cell_type": "markdown",
   "metadata": {},
   "source": [
    "Looks like we've got outilers in SENIORITY_MNTH"
   ]
  },
  {
   "cell_type": "code",
   "execution_count": null,
   "metadata": {
    "collapsed": false
   },
   "outputs": [],
   "source": [
    "data_train.SENIORITY_MNTH[data_train.SENIORITY_MNTH < 0] = np.NaN"
   ]
  },
  {
   "cell_type": "markdown",
   "metadata": {},
   "source": [
    "## Age histogram"
   ]
  },
  {
   "cell_type": "code",
   "execution_count": null,
   "metadata": {
    "collapsed": false
   },
   "outputs": [],
   "source": [
    "data_train.CUST_AGE.plot.hist(bins = len(data_train.CUST_AGE.unique()))"
   ]
  },
  {
   "cell_type": "markdown",
   "metadata": {},
   "source": [
    "## Income boxplots"
   ]
  },
  {
   "cell_type": "code",
   "execution_count": null,
   "metadata": {
    "collapsed": false
   },
   "outputs": [],
   "source": [
    "plt.figure()\n",
    "fig = sns.boxplot(x=\"CUSTIND_SEGMNT\", y=\"CUST_HOUSINCOM\", data = data_train)\n",
    "fig.set_yscale('log')"
   ]
  },
  {
   "cell_type": "code",
   "execution_count": null,
   "metadata": {
    "collapsed": false
   },
   "outputs": [],
   "source": [
    "plt.figure()\n",
    "fig = sns.boxplot(x=\"EMPLYMT_STATUS\", y=\"CUST_HOUSINCOM\", data = data_train)\n",
    "fig.set_yscale('log')"
   ]
  },
  {
   "cell_type": "markdown",
   "metadata": {},
   "source": [
    "## Seniority"
   ]
  },
  {
   "cell_type": "code",
   "execution_count": null,
   "metadata": {
    "collapsed": false
   },
   "outputs": [],
   "source": [
    "sns.boxplot(x=data_train.SENIORITY_MNTH)"
   ]
  },
  {
   "cell_type": "markdown",
   "metadata": {},
   "source": [
    "## Customer profiles (what doesn't change)"
   ]
  },
  {
   "cell_type": "code",
   "execution_count": null,
   "metadata": {
    "collapsed": false
   },
   "outputs": [],
   "source": [
    "grouped = data_train.groupby(\"CUST_ID\")\n",
    "profile_cols = [col for col in data_train.columns\n",
    "                if not col is \"CUST_ID\"\n",
    "                and grouped[col].nunique().max() == 1]\n",
    "print(\"Customer profile:\\n{}\".format(profile_cols))\n",
    "print(\"Other variables:\\n{}\".format(data_train.columns[~data_train.columns.isin(profile_cols)].values))"
   ]
  },
  {
   "cell_type": "code",
   "execution_count": null,
   "metadata": {
    "collapsed": true
   },
   "outputs": [],
   "source": [
    "# We should do this to avoid problems when working with small subsets of data\n",
    "profile_cols = ['EMPLYMT_STATUS', 'RESID_CNTRY', 'CUST_SEX', 'CUST_AGE', 'FIRSTHOLD_DATE', 'NEW_CUST', 'SENIORITY_MNTH', 'PRMRY_CUST', 'PRMRY_LASTDATE', 'CUST_TYPE', 'CUST_ACTIVITY', 'RESID_IDX', 'FOREIGN_IDX', 'SPOUSE_EMPLOY', 'JOIN_CHANNEL', 'DECEASED', 'RESID_TYPE', 'RESID_ADDR_CD', 'RESID_ADDR_NM', 'CUST_ACTIVE', 'CUST_HOUSINCOM', 'CUSTIND_SEGMNT']"
   ]
  },
  {
   "cell_type": "code",
   "execution_count": null,
   "metadata": {
    "collapsed": false
   },
   "outputs": [],
   "source": [
    "profiles = grouped[profile_cols].first()\n",
    "profiles.head()"
   ]
  },
  {
   "cell_type": "code",
   "execution_count": null,
   "metadata": {
    "collapsed": true
   },
   "outputs": [],
   "source": []
  }
 ],
 "metadata": {
  "anaconda-cloud": {},
  "kernelspec": {
   "display_name": "Python 2",
   "language": "python",
   "name": "python2"
  },
  "language_info": {
   "codemirror_mode": {
    "name": "ipython",
    "version": 2
   },
   "file_extension": ".py",
   "mimetype": "text/x-python",
   "name": "python",
   "nbconvert_exporter": "python",
   "pygments_lexer": "ipython2",
   "version": "2.7.6"
  }
 },
 "nbformat": 4,
 "nbformat_minor": 1
}
